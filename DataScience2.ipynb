{
 "cells": [
  {
   "cell_type": "code",
   "execution_count": 1,
   "id": "f42becf3",
   "metadata": {},
   "outputs": [
    {
     "name": "stdout",
     "output_type": "stream",
     "text": [
      "Digite o nome do arquivo: testiculo\n"
     ]
    }
   ],
   "source": [
    "nomeArquivo = input('Digite o nome do arquivo: ')"
   ]
  },
  {
   "cell_type": "code",
   "execution_count": 2,
   "id": "f05fde6e",
   "metadata": {},
   "outputs": [],
   "source": [
    "nomeArquivo = nomeArquivo + '.txt'"
   ]
  },
  {
   "cell_type": "code",
   "execution_count": null,
   "id": "0a82756b",
   "metadata": {},
   "outputs": [],
   "source": [
    "arq = open(nomeArquivo, 'w', encoding='utf-8')"
   ]
  },
  {
   "cell_type": "code",
   "execution_count": null,
   "id": "e9ce828e",
   "metadata": {},
   "outputs": [],
   "source": [
    "linhas = int(input('Quantas linhas seu arquivo vai ter? '))"
   ]
  },
  {
   "cell_type": "code",
   "execution_count": null,
   "id": "33d2cd0f",
   "metadata": {},
   "outputs": [],
   "source": [
    "for l in range(0, linhas):\n",
    "    texto = input(f'Digite o que será escrito na {l + 1}ª linha: ')\n",
    "    arq.write(f'{texto}\\n')"
   ]
  },
  {
   "cell_type": "code",
   "execution_count": null,
   "id": "d3f530b1",
   "metadata": {},
   "outputs": [],
   "source": [
    "arq.close()"
   ]
  },
  {
   "cell_type": "code",
   "execution_count": null,
   "id": "d1110fdc",
   "metadata": {},
   "outputs": [],
   "source": [
    "arq = open(nomeArquivo, 'r', encoding='utf-8')"
   ]
  },
  {
   "cell_type": "code",
   "execution_count": null,
   "id": "0bf9e72d",
   "metadata": {},
   "outputs": [],
   "source": [
    "print(arq.read())"
   ]
  },
  {
   "cell_type": "code",
   "execution_count": null,
   "id": "2f03f02d",
   "metadata": {},
   "outputs": [],
   "source": [
    "arq.close()"
   ]
  },
  {
   "cell_type": "code",
   "execution_count": 3,
   "id": "9ed9d84a",
   "metadata": {},
   "outputs": [],
   "source": [
    "arq = open(nomeArquivo, 'w', encoding='utf-8')"
   ]
  },
  {
   "cell_type": "code",
   "execution_count": 4,
   "id": "73e889e0",
   "metadata": {},
   "outputs": [
    {
     "name": "stdout",
     "output_type": "stream",
     "text": [
      "Digite o que vai ser escrito na 1ª linha: Testículo linha 1\n",
      "Continuar? s\n",
      "Digite o que vai ser escrito na 2ª linha: agora estou escrevendo a linha 2\n",
      "Continuar? s\n",
      "Digite o que vai ser escrito na 3ª linha: vamos agora escrever algo na linha 3\n",
      "Continuar? n\n"
     ]
    }
   ],
   "source": [
    "cont = 1\n",
    "resp = 'S'\n",
    "while 'S':\n",
    "    texto = input(f'Digite o que vai ser escrito na {cont}ª linha: ')\n",
    "    arq.write(f'\\n{texto}')\n",
    "    cont += 1\n",
    "    resp = input('Continuar? ').strip().upper()[0]\n",
    "    if resp == 'S':\n",
    "        continue\n",
    "    else:\n",
    "        break\n",
    "    "
   ]
  },
  {
   "cell_type": "code",
   "execution_count": 5,
   "id": "3ce61d88",
   "metadata": {},
   "outputs": [],
   "source": [
    "arq.close()\n"
   ]
  },
  {
   "cell_type": "code",
   "execution_count": 6,
   "id": "b2c28d0f",
   "metadata": {},
   "outputs": [],
   "source": [
    "arq = open(nomeArquivo, 'r', encoding='utf-8')"
   ]
  },
  {
   "cell_type": "code",
   "execution_count": 7,
   "id": "45d628dd",
   "metadata": {},
   "outputs": [
    {
     "name": "stdout",
     "output_type": "stream",
     "text": [
      "\n",
      "Testículo linha 1\n",
      "agora estou escrevendo a linha 2\n",
      "vamos agora escrever algo na linha 3\n"
     ]
    }
   ],
   "source": [
    "print(arq.read())"
   ]
  },
  {
   "cell_type": "code",
   "execution_count": null,
   "id": "07eaedcb",
   "metadata": {},
   "outputs": [],
   "source": []
  }
 ],
 "metadata": {
  "kernelspec": {
   "display_name": "Python 3 (ipykernel)",
   "language": "python",
   "name": "python3"
  },
  "language_info": {
   "codemirror_mode": {
    "name": "ipython",
    "version": 3
   },
   "file_extension": ".py",
   "mimetype": "text/x-python",
   "name": "python",
   "nbconvert_exporter": "python",
   "pygments_lexer": "ipython3",
   "version": "3.9.7"
  }
 },
 "nbformat": 4,
 "nbformat_minor": 5
}
