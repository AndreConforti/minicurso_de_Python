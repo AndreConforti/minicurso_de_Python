{
 "cells": [
  {
   "cell_type": "code",
   "execution_count": 1,
   "id": "931d7351",
   "metadata": {},
   "outputs": [
    {
     "name": "stdout",
     "output_type": "stream",
     "text": [
      "<class 'int'>\n",
      "<class 'str'>\n",
      "<class 'float'>\n",
      "<class 'bool'>\n"
     ]
    }
   ],
   "source": [
    "x = 10\n",
    "nome = 'aluno'\n",
    "nota = 8.75\n",
    "fez_inscricao = True\n",
    "\n",
    "print(type(x))\n",
    "print(type(nome))\n",
    "print(type(nota))\n",
    "print(type(fez_inscricao))"
   ]
  },
  {
   "cell_type": "code",
   "execution_count": 2,
   "id": "e39ff5bb",
   "metadata": {},
   "outputs": [
    {
     "name": "stdout",
     "output_type": "stream",
     "text": [
      "Resultado em operacao_1 = 17\n",
      "Resultado em operacao_2 = 25\n",
      "Resultado em operacao_3 = 1.0\n",
      "Resultado em operacao_4 = 5\n"
     ]
    }
   ],
   "source": [
    "# Qual o resultado armazenado na variável operacao_1: 25 ou 17? 17\n",
    "operacao_1 = 2 + 3 * 5\n",
    "\n",
    "# Qual o resultado armazenado na variável operacao_2 25 ou 17? 25\n",
    "operacao_2 = (2 + 3) * 5\n",
    "\n",
    "# Qual o resultado armazenado na variável operacao_3: 4 ou 1? 1\n",
    "operacao_3 = 4 / 2 ** 2\n",
    "\n",
    "# Qual o resultado armazenado na variável operacao_4: 1 ou 5? 5\n",
    "operacao_4 = 13 % 3 + 4\n",
    "\n",
    "print(f'Resultado em operacao_1 = {operacao_1}')\n",
    "print(f'Resultado em operacao_2 = {operacao_2}')\n",
    "print(f'Resultado em operacao_3 = {operacao_3}')\n",
    "print(f'Resultado em operacao_4 = {operacao_4}')\n"
   ]
  },
  {
   "cell_type": "code",
   "execution_count": 6,
   "id": "833c3016",
   "metadata": {},
   "outputs": [
    {
     "name": "stdout",
     "output_type": "stream",
     "text": [
      "Digite o valor de x: 3\n",
      "O resultado de y para x = 3 é 20.5\n"
     ]
    }
   ],
   "source": [
    "a = 2\n",
    "b = 0.5\n",
    "c = 1\n",
    "x = int(input('Digite o valor de x: '))\n",
    "\n",
    "y = a * x ** 2 + b * x + c\n",
    "\n",
    "print(f'O resultado de y para x = {x} é {y}')"
   ]
  },
  {
   "cell_type": "code",
   "execution_count": 8,
   "id": "6886cf84",
   "metadata": {},
   "outputs": [
    {
     "name": "stdout",
     "output_type": "stream",
     "text": [
      "Digite o mês que deseja saber o resultado: 30\n",
      "A quantidade de peças para o mês 30 será 6000\n"
     ]
    }
   ],
   "source": [
    "c = 200 # Valor da constante\n",
    "\n",
    "mes = int(input('Digite o mês que deseja saber o resultado: '))\n",
    "\n",
    "r = c * mes\n",
    "\n",
    "print(f'A quantidade de peças para o mês {mes} será {r}')"
   ]
  },
  {
   "cell_type": "code",
   "execution_count": 14,
   "id": "1e99de4a",
   "metadata": {},
   "outputs": [
    {
     "name": "stdout",
     "output_type": "stream",
     "text": [
      "A vogal \"a\" foi encontrada no texto 29 vezes\n"
     ]
    }
   ],
   "source": [
    "from time import sleep\n",
    "cont = 0\n",
    "texto = \"\"\"\n",
    "A inserção de comentários no código do programa é uma prática normal.\n",
    "Em função disso, toda linguagem de programação tem alguma maneira de permitir que comentários sejam inseridos nos programas.\n",
    "O objetivo é adicionar descrições em partes do código, seja para documentá-lo ou para adicionar uma descrição do algoritmo implementado (BANIN, p. 45, 2018).\"\n",
    "\"\"\"\n",
    "for i, c in enumerate(texto):\n",
    "    if c == 'a':\n",
    "        cont += 1\n",
    "    else:\n",
    "        continue\n",
    "print(f'A vogal \"a\" foi encontrada no texto {cont} vezes')"
   ]
  },
  {
   "cell_type": "markdown",
   "id": "e605d73a",
   "metadata": {},
   "source": [
    "# FUNÇÕES EM PYTHON\n"
   ]
  },
  {
   "cell_type": "code",
   "execution_count": 2,
   "id": "d176460a",
   "metadata": {},
   "outputs": [
    {
     "name": "stdout",
     "output_type": "stream",
     "text": [
      "18 de Setembro de 1978\n"
     ]
    }
   ],
   "source": [
    "def converter_mes_para_extenso(data):\n",
    "        mes = '''Janeiro Fevereiro Março Abril Maio Junho \n",
    "            Julho Agosto Setembro Outubro Novembro Dezembro'''.split()\n",
    "        d, m, a = data.split('/')\n",
    "        mes_extenso = mes[int(m) - 1] # Isso porque o mês 1 está na posição 0\n",
    "        return f'{d} de {mes_extenso} de {a}'\n",
    "\n",
    "print(converter_mes_para_extenso('18/09/1978'))"
   ]
  },
  {
   "cell_type": "code",
   "execution_count": 11,
   "id": "b903dd8b",
   "metadata": {},
   "outputs": [
    {
     "name": "stdout",
     "output_type": "stream",
     "text": [
      "['10', '04', '2020']\n"
     ]
    }
   ],
   "source": [
    "data = '10.04.2020'.split('.')\n",
    "print(data)"
   ]
  },
  {
   "cell_type": "code",
   "execution_count": 4,
   "id": "b77bc46b",
   "metadata": {},
   "outputs": [
    {
     "name": "stdout",
     "output_type": "stream",
     "text": [
      "O valor final da conta é 152.0\n"
     ]
    }
   ],
   "source": [
    "def calcular_valor(valor_prod, qtde, moeda = \"real\", desconto = None, acrescimo = None):\n",
    "    v_bruto = valor_prod * qtde\n",
    "    \n",
    "    if desconto:\n",
    "        v_liquido = v_bruto - (v_bruto * (desconto / 100))\n",
    "    elif acrescimo:\n",
    "        v_liquido = v_bruto + (v_bruto * (acrescimo / 100))\n",
    "    else:\n",
    "        v_liquido = v_bruto\n",
    "        \n",
    "    if moeda == 'real':\n",
    "        return v_liquido\n",
    "    elif moeda == 'dolar':\n",
    "        return v_liquido * 5\n",
    "    elif moeda == 'euro':\n",
    "        return v_liquido * 5.7\n",
    "    else:\n",
    "        print('Moeda não caddastrada')\n",
    "        return 0\n",
    "\n",
    "valor_a_pagar = calcular_valor(valor_prod = 32, qtde = 5, desconto = 5)\n",
    "print(f'O valor final da conta é {valor_a_pagar}')"
   ]
  },
  {
   "cell_type": "markdown",
   "id": "89af00ac",
   "metadata": {},
   "source": [
    "# Listas"
   ]
  },
  {
   "cell_type": "code",
   "execution_count": 5,
   "id": "12b64f57",
   "metadata": {},
   "outputs": [
    {
     "name": "stdout",
     "output_type": "stream",
     "text": [
      "Antes da listcomp =  ['Python', 'Java', 'JavaScript', 'C', 'C#', 'c++', 'Swift', 'Go', 'Kotlin']\n",
      "\n",
      "Depois da listcomp =  ['python', 'java', 'javascript', 'c', 'c#', 'c++', 'swift', 'go', 'kotlin']\n"
     ]
    }
   ],
   "source": [
    "linguagens = '''Python Java JavaScript C C# c++ Swift Go Kotlin'''.split()\n",
    "\n",
    "print('Antes da listcomp = ', linguagens)\n",
    "\n",
    "linguagens = [item.lower() for item in linguagens]\n",
    "\n",
    "print('\\nDepois da listcomp = ', linguagens)"
   ]
  },
  {
   "cell_type": "code",
   "execution_count": 6,
   "id": "ef156d5a",
   "metadata": {},
   "outputs": [
    {
     "name": "stdout",
     "output_type": "stream",
     "text": [
      "['Java', 'JavaScript']\n"
     ]
    }
   ],
   "source": [
    "linguagens = '''Python Java JavaScript C C# c++ Swift Go Kotlin'''.split()\n",
    "\n",
    "linguagens_java = [item for item in linguagens if 'Java' in item]\n",
    "\n",
    "print(linguagens_java)"
   ]
  },
  {
   "cell_type": "code",
   "execution_count": 11,
   "id": "8cb6b53e",
   "metadata": {},
   "outputs": [
    {
     "name": "stdout",
     "output_type": "stream",
     "text": [
      "Exemplo 1\n",
      "A nova lista é = <map object at 0x0000024CF0185A60>\n",
      "Agora sim, a nova lista é = ['python', 'java', 'javascript', 'c', 'c#', 'c++', 'swift', 'go', 'kotlin']\n",
      "Exemplo 2\n",
      "Lista com o número elevado a ele mesmo = [0, 1, 4, 9, 16, 25]\n"
     ]
    }
   ],
   "source": [
    "print('Exemplo 1')\n",
    "linguagens = '''Python Java JavaScript C C# c++ Swift Go Kotlin'''.split()\n",
    "\n",
    "nova_lista = map(lambda x: x.lower(), linguagens)\n",
    "print(f'A nova lista é = {nova_lista}')\n",
    "\n",
    "nova_lista = list(nova_lista)\n",
    "print(f'Agora sim, a nova lista é = {nova_lista}')\n",
    "\n",
    "print('Exemplo 2')\n",
    "numeros = [0, 1, 2, 3, 4, 5]\n",
    "\n",
    "quadrados = list(map(lambda x: x*x, numeros))\n",
    "print(f'Lista com o número elevado a ele mesmo = {quadrados}')"
   ]
  },
  {
   "cell_type": "code",
   "execution_count": 13,
   "id": "4b14f861",
   "metadata": {},
   "outputs": [
    {
     "name": "stdout",
     "output_type": "stream",
     "text": [
      "[0, 2, 4, 6, 8, 10, 12, 14, 16, 18, 20]\n"
     ]
    }
   ],
   "source": [
    "numeros = list(range(0, 21))\n",
    "\n",
    "numeros_pares = list(filter(lambda x: x % 2 == 0, numeros))\n",
    "\n",
    "print(numeros_pares)"
   ]
  },
  {
   "cell_type": "code",
   "execution_count": 3,
   "id": "ae78cc36",
   "metadata": {},
   "outputs": [
    {
     "name": "stdout",
     "output_type": "stream",
     "text": [
      "(0, 'a')\n",
      "(1, 'e')\n",
      "(2, 'i')\n",
      "(3, 'o')\n",
      "(4, 'u')\n",
      "((0, 'a'), (1, 'e'), (2, 'i'), (3, 'o'), (4, 'u'))\n",
      "[(0, 'a'), (1, 'e'), (2, 'i'), (3, 'o'), (4, 'u')]\n"
     ]
    }
   ],
   "source": [
    "vogais = ('a', 'e', 'i', 'o', 'u')\n",
    "\n",
    "for item in enumerate(vogais):\n",
    "    print(item)\n",
    "    \n",
    "print(tuple(enumerate(vogais)))\n",
    "print(list(enumerate(vogais)))"
   ]
  },
  {
   "cell_type": "markdown",
   "id": "7b110714",
   "metadata": {},
   "source": [
    "# Set"
   ]
  },
  {
   "cell_type": "code",
   "execution_count": 8,
   "id": "ad657205",
   "metadata": {},
   "outputs": [
    {
     "name": "stdout",
     "output_type": "stream",
     "text": [
      "Foram verificados 23 componentes\n",
      "\n",
      "4 componentes apresentaram defeito\n",
      "Os componentes que podem ser vendidos são: \n",
      "hub\n",
      "mouse\n",
      "cooler\n",
      "impressora\n",
      "gabinete\n",
      "caixas de som\n",
      "microfone\n",
      "placa de vídeo\n",
      "joystick\n",
      "placa mãe\n",
      "dissipador de calor\n",
      "memória ram\n",
      "webcam\n",
      "teclado\n",
      "no-break\n",
      "modem\n",
      "cpu\n",
      "estabilizador\n",
      "placa de captura\n"
     ]
    }
   ],
   "source": [
    "def create_report():\n",
    "    componentes_verificados = set(['caixas de som', 'cooler', 'dissipador de calor', 'cpu', 'hd', 'estabilizador', 'gabinete', 'hub', 'impressora', 'joystick', 'memória ram', 'microfone', 'modem', 'monitor', 'mouse', 'no-break', 'placa de captura', 'placa de som', 'placa de vídeo', 'placa mãe', 'scanner', 'teclado', 'webcam' ])\n",
    "    componentes_com_defeito = set(['hd', 'monitor', 'placa de som','scanner'])\n",
    "    \n",
    "    qtde_componentes_verificados = len(componentes_verificados)\n",
    "    qtde_componentes_com_defeito = len(componentes_com_defeito)\n",
    "    \n",
    "    componentes_ok = componentes_verificados.difference(componentes_com_defeito)\n",
    "    \n",
    "    print(f'Foram verificados {qtde_componentes_verificados} componentes\\n')\n",
    "    print(f'{qtde_componentes_com_defeito} componentes apresentaram defeito')\n",
    "    \n",
    "    print('Os componentes que podem ser vendidos são: ')\n",
    "    for item in componentes_ok:\n",
    "        print(item)\n",
    "\n",
    "create_report()"
   ]
  },
  {
   "cell_type": "code",
   "execution_count": 14,
   "id": "620cced2",
   "metadata": {},
   "outputs": [
    {
     "name": "stdout",
     "output_type": "stream",
     "text": [
      "Amostra da lista 1 = ('Sonia Weber', 'Lorem.ipsum@cursusvestibulumMauris.com', False)\n",
      "Amostra da lista 2 = ('Travis Shepherd', 'at@sed.org', False)\n",
      "Amostra dos dados = [('Sonia Weber', 'Lorem.ipsum@cursusvestibulumMauris.com', False), ('Daryl Lowe', 'auctor@magnis.org', False), ('Vernon Carroll', 'at@magnaUttincidunt.org', False)]\n",
      "\n",
      "E-mails a serem enviados\n",
      "Lorem.ipsum@cursusvestibulumMauris.com\n",
      "auctor@magnis.org\n",
      "at@magnaUttincidunt.org\n",
      "mauris.sagittis@sem.com\n",
      "nec.euismod.in@mattis.co.uk\n",
      "egestas@massaMaurisvestibulum.edu\n",
      "semper.auctor.Mauris@Crasdolordolor.edu\n",
      "Donec@nislMaecenasmalesuada.net\n",
      "Aenean.gravida@atrisus.edu\n",
      "at@sed.org\n",
      "ac.arcu.Nunc@auctor.edu\n",
      "nunc.Quisque.ornare@nibhAliquam.co.uk\n",
      "dolor.tempus.non@ipsum.net\n",
      "felis@urnaconvalliserat.org\n"
     ]
    }
   ],
   "source": [
    "def extrair_lista_email(dict_1, dict_2):\n",
    "    lista_1 = list(zip(dict_1['nome'], dict_1['email'], dict_1['enviado']))\n",
    "    print(f'Amostra da lista 1 = {lista_1[0]}')\n",
    "    \n",
    "    lista_2 = list(zip(dict_2['nome'], dict_2['email'], dict_2['enviado']))\n",
    "    print(f'Amostra da lista 2 = {lista_2[0]}')\n",
    "    \n",
    "    dados = lista_1 + lista_2\n",
    "    \n",
    "    print(f'Amostra dos dados = {dados[:3]}')\n",
    "    \n",
    "    # Queremos uma lista com o e-mail de quem ainda não recebeu o aviso\n",
    "    emails = [item[1] for item in dados if not item[2]]\n",
    "    \n",
    "    return emails\n",
    "\n",
    "    \n",
    "dados_1 = {\n",
    "    'nome': ['Sonia Weber', 'Daryl Lowe', 'Vernon Carroll', 'Basil Gilliam', 'Mechelle Cobb', 'Edan Booker', 'Igor Wyatt', 'Ethan Franklin', 'Reed Williamson', 'Price Singleton'],\n",
    "    'email': ['Lorem.ipsum@cursusvestibulumMauris.com', 'auctor@magnis.org', 'at@magnaUttincidunt.org', 'mauris.sagittis@sem.com', 'nec.euismod.in@mattis.co.uk', 'egestas@massaMaurisvestibulum.edu', 'semper.auctor.Mauris@Crasdolordolor.edu', 'risus.Quisque@condimentum.com', 'Donec@nislMaecenasmalesuada.net', 'Aenean.gravida@atrisus.edu'],\n",
    "    'enviado': [False, False, False, False, False, False, False, True, False, False]\n",
    "}       \n",
    "dados_2 = {\n",
    "    'nome': ['Travis Shepherd', 'Hoyt Glass', 'Jennifer Aguirre', 'Cassady Ayers', 'Colin Myers', 'Herrod Curtis', 'Cecilia Park', 'Hop Byrd', 'Beatrice Silva', 'Alden Morales'],\n",
    "    'email': ['at@sed.org', 'ac.arcu.Nunc@auctor.edu', 'nunc.Quisque.ornare@nibhAliquam.co.uk', 'non.arcu@mauriseu.com', 'fringilla.cursus.purus@erategetipsum.ca', 'Fusce.fermentum@tellus.co.uk', 'dolor.tempus.non@ipsum.net', 'blandit.congue.In@libero.com', 'nec.tempus.mauris@Suspendisse.com', 'felis@urnaconvalliserat.org'],\n",
    "    'enviado': [False, False, False, True, True, True, False, True, True, False]\n",
    "}  \n",
    "    \n",
    "\n",
    "emails = extrair_lista_email(dict_1 = dados_1, dict_2 = dados_2)\n",
    "print(f'\\nE-mails a serem enviados')\n"
   ]
  },
  {
   "cell_type": "markdown",
   "id": "eed96322",
   "metadata": {},
   "source": [
    "# Algoritmos de Busca"
   ]
  },
  {
   "cell_type": "code",
   "execution_count": 10,
   "id": "63e68db5",
   "metadata": {},
   "outputs": [
    {
     "name": "stdout",
     "output_type": "stream",
     "text": [
      "lista =  [-3, 1, 4, 10, 15] \n",
      "\n",
      "lista_ordenada1 =  [-3, 1, 4, 10, 15]\n",
      "lista_ordenada2 =  None\n",
      "lista =  [-3, 1, 4, 10, 15]\n"
     ]
    }
   ],
   "source": [
    "lista = [10, 4, 1, 15, -3]\n",
    "\n",
    "lista_ordenada1 = sorted(lista)\n",
    "lista_ordenada2 = lista.sort()\n",
    "\n",
    "print('lista = ', lista, '\\n')\n",
    "print('lista_ordenada1 = ', lista_ordenada1)\n",
    "print('lista_ordenada2 = ', lista_ordenada2)\n",
    "print('lista = ', lista)\n"
   ]
  },
  {
   "cell_type": "markdown",
   "id": "6179c447",
   "metadata": {},
   "source": [
    "# SELECTION SORT\n"
   ]
  },
  {
   "cell_type": "code",
   "execution_count": 1,
   "id": "609b8e13",
   "metadata": {},
   "outputs": [
    {
     "data": {
      "text/plain": [
       "[-1, 3, 5, 8, 9, 10, 11]"
      ]
     },
     "execution_count": 1,
     "metadata": {},
     "output_type": "execute_result"
    }
   ],
   "source": [
    "def executar_selection_sort(lista):\n",
    "    n = len(lista)\n",
    "    \n",
    "    for i in range(0, n):\n",
    "        index_menor = i\n",
    "        for j in range(i+1, n):\n",
    "            if lista[j] < lista[index_menor]:\n",
    "                index_menor = j\n",
    "        lista[i], lista[index_menor] = lista[index_menor], lista[i]\n",
    "    return lista\n",
    "\n",
    "\n",
    "lista = [10, 9, 5, 8, 11, -1, 3]\n",
    "executar_selection_sort(lista)"
   ]
  },
  {
   "cell_type": "code",
   "execution_count": 2,
   "id": "1e156c51",
   "metadata": {},
   "outputs": [
    {
     "data": {
      "text/plain": [
       "[-1, 3, 5, 8, 9, 10, 11]"
      ]
     },
     "execution_count": 2,
     "metadata": {},
     "output_type": "execute_result"
    }
   ],
   "source": [
    "def executar_selection_sort_2(lista):\n",
    "    lista_ordenada = []\n",
    "    while lista:\n",
    "        minimo = min(lista)\n",
    "        lista_ordenada.append(minimo)\n",
    "        lista.remove(minimo)\n",
    "    return lista_ordenada\n",
    "\n",
    "\n",
    "lista = [10, 9, 5, 8, 11, -1, 3]\n",
    "executar_selection_sort_2(lista)"
   ]
  },
  {
   "cell_type": "markdown",
   "id": "b520305d",
   "metadata": {},
   "source": [
    "# BUBBLE SORT"
   ]
  },
  {
   "cell_type": "code",
   "execution_count": 3,
   "id": "f7485b27",
   "metadata": {},
   "outputs": [
    {
     "data": {
      "text/plain": [
       "[-1, 3, 5, 8, 9, 10, 11]"
      ]
     },
     "execution_count": 3,
     "metadata": {},
     "output_type": "execute_result"
    }
   ],
   "source": [
    "def executar_bubble_sort(lista):\n",
    "    n = len(lista)\n",
    "    \n",
    "    for i in range(n-1):\n",
    "        for j in range(n-1):\n",
    "            if lista[j] > lista[j+1]:\n",
    "                lista[j], lista[j+1] = lista[j+1], lista[j]\n",
    "    return lista\n",
    "\n",
    "\n",
    "lista = [10, 9, 5, 8, 11, -1, 3]\n",
    "executar_bubble_sort(lista)"
   ]
  },
  {
   "cell_type": "markdown",
   "id": "34990412",
   "metadata": {},
   "source": [
    "# INSERTION SORT"
   ]
  },
  {
   "cell_type": "code",
   "execution_count": 5,
   "id": "1b471928",
   "metadata": {},
   "outputs": [
    {
     "data": {
      "text/plain": [
       "[-1, 3, 5, 8, 9, 10, 11]"
      ]
     },
     "execution_count": 5,
     "metadata": {},
     "output_type": "execute_result"
    }
   ],
   "source": [
    "def executar_insertion_sort(lista):\n",
    "    n = len(lista)\n",
    "    \n",
    "    for i in range(1, n):\n",
    "        valor_inserir = lista[i]\n",
    "        j = i - 1\n",
    "        \n",
    "        while j >= 0 and lista[j] > valor_inserir:\n",
    "            lista[j + 1] = lista[j]\n",
    "            j -= 1\n",
    "        lista[j + 1] = valor_inserir\n",
    "    \n",
    "    return lista\n",
    "\n",
    "\n",
    "lista = [10, 9, 5, 8, 11, -1, 3]\n",
    "executar_insertion_sort(lista)"
   ]
  },
  {
   "cell_type": "markdown",
   "id": "f906eed5",
   "metadata": {},
   "source": [
    "# MERGE SORT"
   ]
  },
  {
   "cell_type": "code",
   "execution_count": 2,
   "id": "490c2135",
   "metadata": {},
   "outputs": [
    {
     "data": {
      "text/plain": [
       "[-1, 3, 5, 8, 9, 10, 11]"
      ]
     },
     "execution_count": 2,
     "metadata": {},
     "output_type": "execute_result"
    }
   ],
   "source": [
    "def executar_merge_sort(lista):\n",
    "    if len(lista) <= 1: \n",
    "        return lista\n",
    "    else:\n",
    "        meio = len(lista) // 2\n",
    "        esquerda = executar_merge_sort(lista[:meio])\n",
    "        direita = executar_merge_sort(lista[meio:])\n",
    "        return executar_merge(esquerda, direita)\n",
    "    \n",
    "\n",
    "def executar_merge(esquerda, direita):\n",
    "    sub_lista_ordenada = []\n",
    "    topo_esquerda, topo_direita = 0, 0\n",
    "    while topo_esquerda < len(esquerda) and topo_direita < len(direita):\n",
    "        if esquerda[topo_esquerda] <= direita[topo_direita]:\n",
    "            sub_lista_ordenada.append(esquerda[topo_esquerda])\n",
    "            topo_esquerda += 1\n",
    "        else:\n",
    "            sub_lista_ordenada.append(direita[topo_direita])\n",
    "            topo_direita += 1\n",
    "    sub_lista_ordenada += esquerda[topo_esquerda:]\n",
    "    sub_lista_ordenada += direita[topo_direita:]\n",
    "    return sub_lista_ordenada\n",
    "                                   \n",
    "                                   \n",
    "lista = [10, 9, 5, 8, 11, -1, 3]\n",
    "executar_merge_sort(lista)"
   ]
  },
  {
   "cell_type": "markdown",
   "id": "9f757d30",
   "metadata": {},
   "source": [
    "# QUICK SORT"
   ]
  },
  {
   "cell_type": "code",
   "execution_count": 1,
   "id": "d8666726",
   "metadata": {},
   "outputs": [
    {
     "data": {
      "text/plain": [
       "[-1, 3, 5, 8, 9, 10, 11]"
      ]
     },
     "execution_count": 1,
     "metadata": {},
     "output_type": "execute_result"
    }
   ],
   "source": [
    "def executar_quicksort(lista, inicio, fim):\n",
    "    if inicio < fim:\n",
    "        pivo = executar_particao(lista, inicio, fim)\n",
    "        executar_quicksort(lista, inicio, pivo - 1)\n",
    "        executar_quicksort(lista, pivo + 1, fim)\n",
    "    return lista\n",
    "\n",
    "\n",
    "def executar_particao(lista, inicio, fim):\n",
    "    pivo = lista[fim]\n",
    "    esquerda = inicio\n",
    "    for direita in range(inicio, fim):\n",
    "        if lista[direita] <= pivo:\n",
    "            lista[direita], lista[esquerda] = lista[esquerda], lista[direita]\n",
    "            esquerda += 1\n",
    "    lista[esquerda], lista[fim] = lista[fim], lista[esquerda]\n",
    "    return esquerda\n",
    "\n",
    "\n",
    "lista = [10, 9, 5, 8, 11, -1, 3]\n",
    "executar_quicksort(lista, inicio = 0, fim = len(lista) - 1)\n"
   ]
  },
  {
   "cell_type": "code",
   "execution_count": 2,
   "id": "4af3c232",
   "metadata": {},
   "outputs": [
    {
     "data": {
      "text/plain": [
       "[-1, 3, 5, 8, 9, 10, 11]"
      ]
     },
     "execution_count": 2,
     "metadata": {},
     "output_type": "execute_result"
    }
   ],
   "source": [
    "def executar_quicksort_2(lista):\n",
    "    if len(lista) <= 1:\n",
    "        return lista\n",
    "    pivo = lista[0]\n",
    "    iguais = [valor for valor in lista if valor == pivo]\n",
    "    menores = [valor for valor in lista if valor < pivo]\n",
    "    maiores = [valor for valor in lista if valor > pivo]\n",
    "    return executar_quicksort_2(menores) + iguais + executar_quicksort_2(maiores)\n",
    "\n",
    "\n",
    "lista = [10, 9, 5, 8, 11, -1, 3]\n",
    "executar_quicksort_2(lista)"
   ]
  },
  {
   "cell_type": "markdown",
   "id": "d82dec22",
   "metadata": {},
   "source": [
    " # Exercício"
   ]
  },
  {
   "cell_type": "code",
   "execution_count": 6,
   "id": "cdd3818c",
   "metadata": {},
   "outputs": [
    {
     "name": "stdout",
     "output_type": "stream",
     "text": [
      "['11111111111', '22222222222', '33333333333', '44444444444']\n"
     ]
    }
   ],
   "source": [
    "# Parte 1 - Implementar o algoritmo de ordenação merge sort\n",
    "\n",
    "def executar_merge_sort(lista, inicio = 0, fim = None):\n",
    "    if not fim:\n",
    "        fim = len(lista)\n",
    "    \n",
    "    if fim - inicio > 1:\n",
    "        meio = (inicio + fim) // 2\n",
    "        executar_merge_sort(lista, inicio, meio)\n",
    "        executar_merge_sort(lista, meio, fim)\n",
    "        executar_merge(lista, inicio, meio, fim)\n",
    "    return lista\n",
    "\n",
    "\n",
    "def executar_merge(lista, inicio, meio, fim):\n",
    "    esquerda = lista[inicio:meio]\n",
    "    direita = lista[meio:fim]\n",
    "    topo_esquerda = topo_direita = 0\n",
    "    for p in range(inicio, fim):\n",
    "        if topo_esquerda >= len(esquerda):\n",
    "            lista[p] = direita[topo_direita]\n",
    "            topo_direita += 1\n",
    "        elif topo_direita >= len(direita):\n",
    "            lista[p] = esquerda[topo_esquerda]\n",
    "            topo_esquerda += 1\n",
    "        elif esquerda[topo_esquerda] < direita[topo_direita]:\n",
    "            lista[p] = esquerda[topo_esquerda]\n",
    "            topo_esquerda += 1\n",
    "        else:\n",
    "            lista[p] = direita[topo_direita]\n",
    "            topo_direita += 1\n",
    "\n",
    "            \n",
    "# Parte 2 - Implementar o algoritmo de busca binária\n",
    "\n",
    "def executar_busca_binaria(lista, valor):\n",
    "    minimo = 0\n",
    "    maximo = len(lista) - 1\n",
    "    while minimo <= maximo:\n",
    "        meio = (minimo + maximo) // 2\n",
    "        if valor < lista[meio]:\n",
    "            maximo = meio - 1\n",
    "        elif valor > lista[meio]:\n",
    "            minimo = meio + 1\n",
    "        else:\n",
    "            return True\n",
    "    return False  \n",
    "\n",
    "\n",
    "# Parte 3 - Implementar a função que faz a verificação do CPF, o dedup e devolve o resultado esperado\n",
    "\n",
    "def criar_lista_dedup_ordenada(lista):\n",
    "    lista = [str(cpf).replace('.', '').replace('-', '') for cpf in lista]\n",
    "    lista = [cpf for cpf in lista if len(cpf) == 11]\n",
    "    lista = executar_merge_sort(lista)\n",
    "    \n",
    "    lista_dedup = []\n",
    "    for cpf in lista:\n",
    "        if not executar_busca_binaria(lista_dedup, cpf):\n",
    "            lista_dedup.append(cpf)\n",
    "    return lista_dedup\n",
    "\n",
    "\n",
    "# Parte 4 - Criar uma função de teste\n",
    "\n",
    "def testar_funcao(lista_cpfs):\n",
    "    lista_dedup = criar_lista_dedup_ordenada(lista_cpfs)\n",
    "    print(lista_dedup)\n",
    "    \n",
    "\n",
    "lista_cpfs = ['44444444444', '111.111.111-11', '11111111111', '222.222.222-22', '333.333.333-33', '22222222222', '444.44444']\n",
    "testar_funcao(lista_cpfs)"
   ]
  },
  {
   "cell_type": "code",
   "execution_count": null,
   "id": "f083e6c8",
   "metadata": {},
   "outputs": [],
   "source": []
  }
 ],
 "metadata": {
  "kernelspec": {
   "display_name": "Python 3 (ipykernel)",
   "language": "python",
   "name": "python3"
  },
  "language_info": {
   "codemirror_mode": {
    "name": "ipython",
    "version": 3
   },
   "file_extension": ".py",
   "mimetype": "text/x-python",
   "name": "python",
   "nbconvert_exporter": "python",
   "pygments_lexer": "ipython3",
   "version": "3.9.7"
  }
 },
 "nbformat": 4,
 "nbformat_minor": 5
}
