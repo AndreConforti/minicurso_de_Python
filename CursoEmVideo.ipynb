{
 "cells": [
  {
   "cell_type": "code",
   "execution_count": 1,
   "id": "6b372653",
   "metadata": {},
   "outputs": [
    {
     "name": "stdout",
     "output_type": "stream",
     "text": [
      "------------------------------\n",
      "Controle de Terrenos\n",
      "Largura (m): 4.5\n",
      "Comprimento (m): 8\n"
     ]
    },
    {
     "data": {
      "text/plain": [
       "'A área de um terreno 4.5 x 8.0 é de 36.0m²'"
      ]
     },
     "execution_count": 1,
     "metadata": {},
     "output_type": "execute_result"
    }
   ],
   "source": [
    "#Exercicio 96\n",
    "def area(larg, comp):\n",
    "    area = largura * comprimento\n",
    "    return (f'A área de um terreno {larg} x {comp} é de {area}m²')\n",
    "\n",
    "print('-' * 30)\n",
    "print('Controle de Terrenos')\n",
    "largura = float(input(\"Largura (m): \"))\n",
    "comprimento = float(input(\"Comprimento (m): \"))\n",
    "\n",
    "area(largura, comprimento)"
   ]
  },
  {
   "cell_type": "code",
   "execution_count": 29,
   "id": "93dd144c",
   "metadata": {},
   "outputs": [
    {
     "name": "stdout",
     "output_type": "stream",
     "text": [
      "---------\n",
      "  André\n",
      "---------\n",
      "---------------------\n",
      "  Gustavo Guanabara\n",
      "---------------------\n",
      "------------------------------\n",
      "  Curso de Python no Youtube\n",
      "------------------------------\n",
      "-------\n",
      "  CeV\n",
      "-------\n"
     ]
    }
   ],
   "source": [
    "#Exercicio 97\n",
    "def escreva(txt):\n",
    "    print('-' * (len(txt) + 4))\n",
    "    print(f'  {txt}')\n",
    "    print('-' * (len(txt) + 4))\n",
    "     \n",
    "\n",
    "escreva('André')\n",
    "escreva('Gustavo Guanabara')\n",
    "escreva('Curso de Python no Youtube')\n",
    "escreva('CeV')"
   ]
  },
  {
   "cell_type": "code",
   "execution_count": 3,
   "id": "d3854cf1",
   "metadata": {},
   "outputs": [
    {
     "name": "stdout",
     "output_type": "stream",
     "text": [
      "\n",
      "\n",
      "Contagem de 1 até 10 de 1 em 1\n",
      "1 2 3 4 5 6 7 8 9 10 \n",
      "\n",
      "Contagem de 10 até 0 de 2 em 2\n",
      "10 8 6 4 2 0 \n",
      "Agora é sua vez:\n",
      "Início: 25\n",
      "Fim: 1\n",
      "Passo: -3\n",
      "\n",
      "\n",
      "Contagem de 25 até 1 de 3 em 3\n",
      "25 22 19 16 13 10 7 4 1 "
     ]
    }
   ],
   "source": [
    "#Exercicio 98\n",
    "'''Faça um programa que tenha uma função chamada \n",
    "contador(), que receba três parâmetros: início, fim e \n",
    "passo. Seu programa tem que realizar três contagens\n",
    "através da função criada:\n",
    "    a: de 1 até 10, de 1 em 1\n",
    "    b: de 10 até 0, de 2 em 2\n",
    "    c: uma contagem personalizada.'''\n",
    "from time import sleep\n",
    "\n",
    "def contador(i, f, p):\n",
    "    if p < 0: p *= -1\n",
    "    if p == 0: p = 1\n",
    "    print('\\n')\n",
    "    print(f'Contagem de {i} até {f} de {p} em {p}')\n",
    "    sleep(2)\n",
    "    cont = i\n",
    "    if p < 0: p *= -1\n",
    "    if p == 0: p = 1\n",
    "    if i <= f:\n",
    "        while cont <= f:\n",
    "            print(f'{cont}', end=' ', flush=True)\n",
    "            sleep(0.5)\n",
    "            cont += p\n",
    "    else:\n",
    "        while cont >= f:\n",
    "            print(f'{cont}', end=' ', flush=True)\n",
    "            sleep(0.5)\n",
    "            cont -= p\n",
    "        \n",
    "\n",
    "contador(1, 10, 1)\n",
    "contador(10, 0, 2)\n",
    "\n",
    "print('\\nAgora é sua vez:')\n",
    "inicio = int(input(\"Início: \"))\n",
    "fim = int(input(\"Fim: \"))\n",
    "passo = int(input(\"Passo: \"))\n",
    "contador(inicio, fim, passo)"
   ]
  },
  {
   "cell_type": "code",
   "execution_count": 19,
   "id": "26ca6bf2",
   "metadata": {},
   "outputs": [
    {
     "name": "stdout",
     "output_type": "stream",
     "text": [
      "******************************\n",
      "Analisando os valores:\n",
      "4 3 8 5 1 \tForam analisados 5 valores.\n",
      "O maior valor entre eles é 8\n",
      "******************************\n",
      "Analisando os valores:\n",
      "4 7 1 4 \tForam analisados 4 valores.\n",
      "O maior valor entre eles é 7\n",
      "******************************\n",
      "Analisando os valores:\n",
      "9 0 4 \tForam analisados 3 valores.\n",
      "O maior valor entre eles é 9\n",
      "******************************\n",
      "Analisando os valores:\n",
      "5 2 \tForam analisados 2 valores.\n",
      "O maior valor entre eles é 5\n",
      "******************************\n",
      "Analisando os valores:\n",
      "0 \tForam analisados 1 valores.\n",
      "O maior valor entre eles é 0\n",
      "******************************\n",
      "Analisando os valores:\n",
      "\tForam analisados 0 valores.\n",
      "O maior valor entre eles é 0\n"
     ]
    }
   ],
   "source": [
    "#Exercicio 99\n",
    "from time import sleep\n",
    "\n",
    "def maior(* num):\n",
    "    print('*' * 30)\n",
    "    print('Analisando os valores:')\n",
    "    sleep(1)\n",
    "    total = maior = 0\n",
    "    for n in num:\n",
    "        print(f'{n}', end=' ')\n",
    "        if total == 0:\n",
    "            maior = n\n",
    "        else:\n",
    "            if n > maior:\n",
    "                maior = n\n",
    "        total += 1\n",
    "        sleep(0.5)\n",
    "    print(f'\\tForam analisados {total} valores.')\n",
    "    print(f'O maior valor entre eles é {maior}')\n",
    "        \n",
    "\n",
    "\n",
    "maior(4,3,8,5,1)\n",
    "maior(4,7,1,4)\n",
    "maior(9,0,4)\n",
    "maior(5,2)\n",
    "maior(0)\n",
    "maior()"
   ]
  },
  {
   "cell_type": "code",
   "execution_count": 42,
   "id": "72d10567",
   "metadata": {},
   "outputs": [
    {
     "name": "stdout",
     "output_type": "stream",
     "text": [
      "Sorteando 5 valores da lista: 8 7 8 8 8 \n",
      "A soma dos números pares é 32\n"
     ]
    }
   ],
   "source": [
    "#Exercicio 100\n",
    "from random import randint\n",
    "from time import sleep\n",
    "\n",
    "def sorteia(lista):\n",
    "    print('Sorteando 5 valores da lista: ', end='')\n",
    "    sleep(1)\n",
    "    for i in range(0, 5):\n",
    "        lista.append(randint(1, 10))\n",
    "        print(f'{lista[i]}', end=' ')\n",
    "        sleep(0.5)\n",
    "\n",
    "        \n",
    "def somaPar(lista):\n",
    "    soma = 0\n",
    "    sleep(2)\n",
    "    for i in lista:\n",
    "        if i % 2 == 0:\n",
    "            soma += i\n",
    "    print(f'\\nA soma dos números pares é {soma}')\n",
    "    \n",
    "numeros = list()        \n",
    "sorteia(numeros)\n",
    "somaPar(numeros)"
   ]
  },
  {
   "cell_type": "code",
   "execution_count": 51,
   "id": "b4cf8663",
   "metadata": {},
   "outputs": [
    {
     "name": "stdout",
     "output_type": "stream",
     "text": [
      "Digite o ano de nascimento: 1978\n",
      "Com 44 anos, o voto é OBRIGATÓRIO\n"
     ]
    }
   ],
   "source": [
    "#Exercicio 101\n",
    "from datetime import date\n",
    "\n",
    "def voto(ano):\n",
    "    from datetime import date\n",
    "    idade = date.today().year - ano\n",
    "    if 16 <= idade < 18 or idade > 65:\n",
    "        return f'Com {idade} anos, o voto é OPCIONAL'\n",
    "    elif 18 <= idade <= 65:\n",
    "        return f'Com {idade} anos, o voto é OBRIGATÓRIO'\n",
    "    else:\n",
    "        return f'Com {idade} anos, o voto é NEGADO'\n",
    "\n",
    "    \n",
    "nascimento = int(input('Digite o ano de nascimento: '))\n",
    "print(voto(nascimento))\n",
    "    "
   ]
  },
  {
   "cell_type": "code",
   "execution_count": 79,
   "id": "9034549f",
   "metadata": {},
   "outputs": [
    {
     "name": "stdout",
     "output_type": "stream",
     "text": [
      "6 x 5 x 4 x 3 x 2 x 1 = 720\n"
     ]
    }
   ],
   "source": [
    "#Exercicio 102\n",
    "def fatorial(num, show=False):\n",
    "    \"\"\"\n",
    "    Calcula o Fatorial de um número.\n",
    "    :param n: o número a ser calculado.\n",
    "    :param show: (opcional) mostrar ou não a conta.\n",
    "    :return: o valor do Fatorial de um número n.\n",
    "    Created by André Conforti in 2022.06.05\n",
    "    \"\"\"\n",
    "    fat = 1\n",
    "    for i in range(num, 0, -1):\n",
    "        if show:\n",
    "            print(i, end='')\n",
    "            if i > 1:\n",
    "                print(' x ', end='')\n",
    "            else:\n",
    "                print(' = ', end='')\n",
    "        fat *= i\n",
    "    return fat\n",
    "    \n",
    "print(fatorial(6, show=True))"
   ]
  },
  {
   "cell_type": "code",
   "execution_count": 80,
   "id": "056cf34d",
   "metadata": {},
   "outputs": [
    {
     "name": "stdout",
     "output_type": "stream",
     "text": [
      "Help on function fatorial in module __main__:\n",
      "\n",
      "fatorial(num, show=False)\n",
      "    Calcula o Fatorial de um número.\n",
      "    :param n: o número a ser calculado.\n",
      "    :param show: (opcional) mostrar ou não a conta.\n",
      "    :return: o valor do Fatorial de um número n.\n",
      "    Created by André Conforti in 2022.06.05\n",
      "\n"
     ]
    }
   ],
   "source": [
    "help(fatorial)"
   ]
  },
  {
   "cell_type": "code",
   "execution_count": 5,
   "id": "8ab7e589",
   "metadata": {},
   "outputs": [
    {
     "name": "stdout",
     "output_type": "stream",
     "text": [
      "Nome do jogador: a\n",
      "Número de gols: r\n",
      "O jogador a fez 0 gol(s) no campeonato\n"
     ]
    }
   ],
   "source": [
    "#Exercicio 103\n",
    "def ficha(nome='<desconhecido>', gol=0):\n",
    "    print(f'O jogador {nome} fez {gol} gol(s) no campeonato')\n",
    "\n",
    "nome = str(input('Nome do jogador: '))\n",
    "gols = str(input('Número de gols: '))\n",
    "\n",
    "if gols.isnumeric():\n",
    "    gols = int(gols)\n",
    "else:\n",
    "    gols = 0\n",
    "\n",
    "if nome.strip() == '':\n",
    "    ficha(gol=gols)\n",
    "else:\n",
    "    ficha(nome, gols)\n",
    "\n",
    "\n",
    "\n",
    "\n",
    "\n"
   ]
  },
  {
   "cell_type": "code",
   "execution_count": 15,
   "id": "4a2e674f",
   "metadata": {},
   "outputs": [
    {
     "name": "stdout",
     "output_type": "stream",
     "text": [
      "Digite um número inteiro: 5\n",
      "Você digitou o número 5\n"
     ]
    }
   ],
   "source": [
    "# Exercicio 104\n",
    "def leiaInt(msg):\n",
    "    ok = False\n",
    "    valor = 0\n",
    "    \n",
    "    while True:\n",
    "        n = str(input(msg))\n",
    "        if n.isnumeric():\n",
    "            valor = int(n)\n",
    "            ok = True\n",
    "        else:\n",
    "            print('\\033[31mERRO! Digite um número inteiro válido.\\033[m')\n",
    "        if ok:\n",
    "            break\n",
    "    return valor\n",
    "\n",
    "n = leiaInt('Digite um número inteiro: ')\n",
    "print(f'Você digitou o número {n}')"
   ]
  },
  {
   "cell_type": "code",
   "execution_count": null,
   "id": "ad5d95aa",
   "metadata": {},
   "outputs": [],
   "source": []
  },
  {
   "cell_type": "code",
   "execution_count": null,
   "id": "c0662ef2",
   "metadata": {},
   "outputs": [],
   "source": []
  },
  {
   "cell_type": "code",
   "execution_count": null,
   "id": "16c29871",
   "metadata": {},
   "outputs": [],
   "source": []
  }
 ],
 "metadata": {
  "kernelspec": {
   "display_name": "Python 3 (ipykernel)",
   "language": "python",
   "name": "python3"
  },
  "language_info": {
   "codemirror_mode": {
    "name": "ipython",
    "version": 3
   },
   "file_extension": ".py",
   "mimetype": "text/x-python",
   "name": "python",
   "nbconvert_exporter": "python",
   "pygments_lexer": "ipython3",
   "version": "3.9.7"
  }
 },
 "nbformat": 4,
 "nbformat_minor": 5
}
